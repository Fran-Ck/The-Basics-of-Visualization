{
 "cells": [
  {
   "cell_type": "markdown",
   "id": "b3aef528",
   "metadata": {},
   "source": [
    "### Facts"
   ]
  },
  {
   "cell_type": "markdown",
   "id": "192d7647",
   "metadata": {},
   "source": [
    "The world produces atleast 2.5 Quantillion bytes of data each day, and this increases exponentially."
   ]
  },
  {
   "cell_type": "markdown",
   "id": "d10b9598",
   "metadata": {},
   "source": [
    "**Table of Contents**\n",
    "\n",
    "1. What is Data Visualizations?\n",
    "\n",
    "2. Why is Visualization Important?\n",
    "\n",
    "3. Common Tools for data Visualization\n",
    "\n",
    "4. Basic Data Visualization example with python\n"
   ]
  },
  {
   "cell_type": "markdown",
   "id": "772181ed",
   "metadata": {},
   "source": [
    "#### What is Data Visualization?\n",
    "Data Visualization is a way to represent data and information graohically. In another sense, it can be describes as translating data into a visual context using charts, plots, animations, inforgraphics etc. It helps discover trends and patterns of data.Visualization is used to summarize the information.\n",
    "\n",
    "Suppose you are a dataprofessional working with the administrative team of a company. It is not expected that the team members don't understand your technical jargon. But a precise data visualization can easily help you to represent the company's overall statistics so that they can take appropriate decisions for its growth.\n",
    "\n",
    "The Way of visualization varies from person to person, for a PhD holder , data visualization perspective differs from the company growth team. He will use visualiazations for more critical analysis of his research project.\n",
    "\n",
    "So data Visualization paves a way to get insights into data and create a bridge among professionals to share information most easily."
   ]
  },
  {
   "cell_type": "markdown",
   "id": "23ef0f3b",
   "metadata": {},
   "source": [
    "#### Why is Visualization Important?"
   ]
  },
  {
   "cell_type": "markdown",
   "id": "fec636ca",
   "metadata": {},
   "source": [
    "As humnan beings, we get a proper understanding and engage with graphical presentations. It works as a Universal language. You will be puzzled if you are given a dataset in a tabular formart containing hundreds of rows. But appropirate data visualization might help you to have proper trends , outliers and patterns of the data.\n",
    "\n",
    "Some other importance of visualization are:\n",
    "\n",
    "* Easily sharing information\n",
    "* Interactively explore opportunities.\n",
    "* Visualizaze patterns and relationships."
   ]
  },
  {
   "cell_type": "markdown",
   "id": "ab6e7f04",
   "metadata": {},
   "source": [
    "#### Common Tools for Data Visualization\n",
    "\n",
    "Data can be visualized in different ways. TO visualize the data, we need the help of visualization tools. These tools increase the Data professionals' efficiency. We can categorize the tools into towo categories, **(i)Code-free tools** and **(ii) Code-based Tools**.\n",
    "\n",
    "**Code Free Tools**\n",
    "\n",
    "* Microsoft Power Bi\n",
    "* Tableau\n",
    "\n",
    "**Code Based Tools**\n",
    "\n",
    "**Python** and **R** are the most used programming languages for data science. Among them, Python is the best. Python is widely used for its simple syntax and huge-built in libraries for different data science tasks. Some popular libraries for Data Visualization tools are as follows_\n",
    "\n",
    "* Matplotlib\n",
    "* Seaborn\n",
    "* Plotly\n",
    "* Bokeh\n",
    "* ggplot"
   ]
  },
  {
   "cell_type": "markdown",
   "id": "95a69431",
   "metadata": {},
   "source": [
    "### Visualizations"
   ]
  },
  {
   "cell_type": "markdown",
   "id": "a28109c4",
   "metadata": {},
   "source": [
    "###### Load the Important Libraries"
   ]
  },
  {
   "cell_type": "code",
   "execution_count": 1,
   "id": "3107a356",
   "metadata": {},
   "outputs": [],
   "source": [
    "import pandas as pd\n",
    "import numpy as np\n",
    "import matplotlib.pyplot as plt\n",
    "import seaborn as sns"
   ]
  },
  {
   "cell_type": "markdown",
   "id": "46565b4b",
   "metadata": {},
   "source": [
    "###### Load the Dataset"
   ]
  },
  {
   "cell_type": "code",
   "execution_count": 2,
   "id": "9820965b",
   "metadata": {},
   "outputs": [
    {
     "data": {
      "text/html": [
       "<div>\n",
       "<style scoped>\n",
       "    .dataframe tbody tr th:only-of-type {\n",
       "        vertical-align: middle;\n",
       "    }\n",
       "\n",
       "    .dataframe tbody tr th {\n",
       "        vertical-align: top;\n",
       "    }\n",
       "\n",
       "    .dataframe thead th {\n",
       "        text-align: right;\n",
       "    }\n",
       "</style>\n",
       "<table border=\"1\" class=\"dataframe\">\n",
       "  <thead>\n",
       "    <tr style=\"text-align: right;\">\n",
       "      <th></th>\n",
       "      <th>Vegetable</th>\n",
       "      <th>Season</th>\n",
       "      <th>Weight (gm)</th>\n",
       "      <th>Price (tk)</th>\n",
       "    </tr>\n",
       "  </thead>\n",
       "  <tbody>\n",
       "    <tr>\n",
       "      <th>0</th>\n",
       "      <td>Cauliflower</td>\n",
       "      <td>Summer</td>\n",
       "      <td>600</td>\n",
       "      <td>60</td>\n",
       "    </tr>\n",
       "    <tr>\n",
       "      <th>1</th>\n",
       "      <td>Cabbage</td>\n",
       "      <td>Summer</td>\n",
       "      <td>300</td>\n",
       "      <td>80</td>\n",
       "    </tr>\n",
       "    <tr>\n",
       "      <th>2</th>\n",
       "      <td>Radish</td>\n",
       "      <td>Winter</td>\n",
       "      <td>850</td>\n",
       "      <td>25</td>\n",
       "    </tr>\n",
       "    <tr>\n",
       "      <th>3</th>\n",
       "      <td>Eggplant</td>\n",
       "      <td>Winter</td>\n",
       "      <td>700</td>\n",
       "      <td>60</td>\n",
       "    </tr>\n",
       "    <tr>\n",
       "      <th>4</th>\n",
       "      <td>Spinach</td>\n",
       "      <td>Summer</td>\n",
       "      <td>250</td>\n",
       "      <td>50</td>\n",
       "    </tr>\n",
       "  </tbody>\n",
       "</table>\n",
       "</div>"
      ],
      "text/plain": [
       "    Vegetable  Season   Weight (gm)  Price (tk)\n",
       "0  Cauliflower  Summer          600          60\n",
       "1      Cabbage  Summer          300          80\n",
       "2       Radish  Winter          850          25\n",
       "3     Eggplant  Winter          700          60\n",
       "4      Spinach  Summer          250          50"
      ]
     },
     "execution_count": 2,
     "metadata": {},
     "output_type": "execute_result"
    }
   ],
   "source": [
    "df = pd.read_csv('Dataset.csv')\n",
    "df.head(5)"
   ]
  },
  {
   "cell_type": "code",
   "execution_count": 3,
   "id": "463a3f05",
   "metadata": {},
   "outputs": [
    {
     "name": "stdout",
     "output_type": "stream",
     "text": [
      "Vegetable \n",
      "Season \n",
      "Weight (gm)\n",
      "Price (tk)\n"
     ]
    }
   ],
   "source": [
    "columns = df.columns\n",
    "for column in columns:\n",
    "    print(column)"
   ]
  },
  {
   "cell_type": "code",
   "execution_count": 4,
   "id": "6482df2a",
   "metadata": {},
   "outputs": [],
   "source": [
    "#Lets rename these columns for convinience\n",
    "df=df.rename(columns={'Vegetable ':'Vegetable','Season ':'Season','Weight (gm)':'Weight_gm',\n",
    "                    'Price (tk)':'Price_tk' })"
   ]
  },
  {
   "cell_type": "code",
   "execution_count": 5,
   "id": "8a453b7c",
   "metadata": {},
   "outputs": [
    {
     "name": "stdout",
     "output_type": "stream",
     "text": [
      "Vegetable\n",
      "Season\n",
      "Weight_gm\n",
      "Price_tk\n"
     ]
    }
   ],
   "source": [
    "columns = df.columns\n",
    "for column in columns:\n",
    "    print(column)"
   ]
  },
  {
   "cell_type": "markdown",
   "id": "233e1cdb",
   "metadata": {},
   "source": [
    "###### Frequency Table"
   ]
  },
  {
   "cell_type": "markdown",
   "id": "701e0e06",
   "metadata": {},
   "source": [
    "Frequency is the count of the number of occurences of a value. The frequency table is the representation of frequency in a tabular form."
   ]
  },
  {
   "cell_type": "code",
   "execution_count": 6,
   "id": "ec8f14f0",
   "metadata": {},
   "outputs": [
    {
     "data": {
      "text/html": [
       "<div>\n",
       "<style scoped>\n",
       "    .dataframe tbody tr th:only-of-type {\n",
       "        vertical-align: middle;\n",
       "    }\n",
       "\n",
       "    .dataframe tbody tr th {\n",
       "        vertical-align: top;\n",
       "    }\n",
       "\n",
       "    .dataframe thead th {\n",
       "        text-align: right;\n",
       "    }\n",
       "</style>\n",
       "<table border=\"1\" class=\"dataframe\">\n",
       "  <thead>\n",
       "    <tr style=\"text-align: right;\">\n",
       "      <th></th>\n",
       "      <th>Vegetable</th>\n",
       "      <th>Season</th>\n",
       "      <th>Frequency</th>\n",
       "    </tr>\n",
       "  </thead>\n",
       "  <tbody>\n",
       "    <tr>\n",
       "      <th>0</th>\n",
       "      <td>Bean</td>\n",
       "      <td>Summer</td>\n",
       "      <td>1</td>\n",
       "    </tr>\n",
       "    <tr>\n",
       "      <th>1</th>\n",
       "      <td>Bean</td>\n",
       "      <td>Winter</td>\n",
       "      <td>2</td>\n",
       "    </tr>\n",
       "    <tr>\n",
       "      <th>2</th>\n",
       "      <td>Cabbage</td>\n",
       "      <td>Summer</td>\n",
       "      <td>1</td>\n",
       "    </tr>\n",
       "    <tr>\n",
       "      <th>3</th>\n",
       "      <td>Cabbage</td>\n",
       "      <td>Winter</td>\n",
       "      <td>2</td>\n",
       "    </tr>\n",
       "    <tr>\n",
       "      <th>4</th>\n",
       "      <td>Carrot</td>\n",
       "      <td>Winter</td>\n",
       "      <td>3</td>\n",
       "    </tr>\n",
       "    <tr>\n",
       "      <th>5</th>\n",
       "      <td>Cauliflower</td>\n",
       "      <td>Summer</td>\n",
       "      <td>1</td>\n",
       "    </tr>\n",
       "    <tr>\n",
       "      <th>6</th>\n",
       "      <td>Cauliflower</td>\n",
       "      <td>Winter</td>\n",
       "      <td>2</td>\n",
       "    </tr>\n",
       "    <tr>\n",
       "      <th>7</th>\n",
       "      <td>Eggplant</td>\n",
       "      <td>Summer</td>\n",
       "      <td>4</td>\n",
       "    </tr>\n",
       "    <tr>\n",
       "      <th>8</th>\n",
       "      <td>Eggplant</td>\n",
       "      <td>Winter</td>\n",
       "      <td>2</td>\n",
       "    </tr>\n",
       "    <tr>\n",
       "      <th>9</th>\n",
       "      <td>Gourd</td>\n",
       "      <td>All season</td>\n",
       "      <td>1</td>\n",
       "    </tr>\n",
       "    <tr>\n",
       "      <th>10</th>\n",
       "      <td>Gourd</td>\n",
       "      <td>Summer</td>\n",
       "      <td>2</td>\n",
       "    </tr>\n",
       "    <tr>\n",
       "      <th>11</th>\n",
       "      <td>Gourd</td>\n",
       "      <td>Winter</td>\n",
       "      <td>1</td>\n",
       "    </tr>\n",
       "    <tr>\n",
       "      <th>12</th>\n",
       "      <td>Ladies finger</td>\n",
       "      <td>Winter</td>\n",
       "      <td>1</td>\n",
       "    </tr>\n",
       "    <tr>\n",
       "      <th>13</th>\n",
       "      <td>Pointed gourd</td>\n",
       "      <td>All season</td>\n",
       "      <td>1</td>\n",
       "    </tr>\n",
       "    <tr>\n",
       "      <th>14</th>\n",
       "      <td>Pointed gourd</td>\n",
       "      <td>Winter</td>\n",
       "      <td>1</td>\n",
       "    </tr>\n",
       "    <tr>\n",
       "      <th>15</th>\n",
       "      <td>Radish</td>\n",
       "      <td>Summer</td>\n",
       "      <td>1</td>\n",
       "    </tr>\n",
       "    <tr>\n",
       "      <th>16</th>\n",
       "      <td>Radish</td>\n",
       "      <td>Winter</td>\n",
       "      <td>2</td>\n",
       "    </tr>\n",
       "    <tr>\n",
       "      <th>17</th>\n",
       "      <td>Spinach</td>\n",
       "      <td>Summer</td>\n",
       "      <td>1</td>\n",
       "    </tr>\n",
       "    <tr>\n",
       "      <th>18</th>\n",
       "      <td>Spinach</td>\n",
       "      <td>Winter</td>\n",
       "      <td>3</td>\n",
       "    </tr>\n",
       "    <tr>\n",
       "      <th>19</th>\n",
       "      <td>Tomato</td>\n",
       "      <td>Summer</td>\n",
       "      <td>1</td>\n",
       "    </tr>\n",
       "    <tr>\n",
       "      <th>20</th>\n",
       "      <td>Tomato</td>\n",
       "      <td>Winter</td>\n",
       "      <td>4</td>\n",
       "    </tr>\n",
       "  </tbody>\n",
       "</table>\n",
       "</div>"
      ],
      "text/plain": [
       "        Vegetable      Season  Frequency\n",
       "0            Bean      Summer          1\n",
       "1            Bean      Winter          2\n",
       "2         Cabbage      Summer          1\n",
       "3         Cabbage      Winter          2\n",
       "4          Carrot      Winter          3\n",
       "5     Cauliflower      Summer          1\n",
       "6     Cauliflower      Winter          2\n",
       "7        Eggplant      Summer          4\n",
       "8        Eggplant      Winter          2\n",
       "9           Gourd  All season          1\n",
       "10          Gourd      Summer          2\n",
       "11          Gourd      Winter          1\n",
       "12  Ladies finger      Winter          1\n",
       "13  Pointed gourd  All season          1\n",
       "14  Pointed gourd      Winter          1\n",
       "15         Radish      Summer          1\n",
       "16         Radish      Winter          2\n",
       "17        Spinach      Summer          1\n",
       "18        Spinach      Winter          3\n",
       "19         Tomato      Summer          1\n",
       "20         Tomato      Winter          4"
      ]
     },
     "execution_count": 6,
     "metadata": {},
     "output_type": "execute_result"
    }
   ],
   "source": [
    "frequency = df.groupby(['Vegetable', 'Season']).size().reset_index(name='Frequency')\n",
    "frequency"
   ]
  },
  {
   "cell_type": "markdown",
   "id": "66457e19",
   "metadata": {},
   "source": [
    "###### Scatter Plot"
   ]
  },
  {
   "cell_type": "markdown",
   "id": "88955711",
   "metadata": {},
   "source": [
    "The scatter plot is a way to plot two numerical variable ina two dimensional cordinate system. With this plot, we can easily visualize the data distribution."
   ]
  },
  {
   "cell_type": "code",
   "execution_count": 7,
   "id": "43c508a7",
   "metadata": {},
   "outputs": [
    {
     "data": {
      "image/png": "[encoded data removed]",
      "text/plain": [
       "<Figure size 504x360 with 1 Axes>"
      ]
     },
     "metadata": {
      "needs_background": "light"
     },
     "output_type": "display_data"
    }
   ],
   "source": [
    "plt.figure(figsize=(7,5))\n",
    "plt.scatter(df['Price_tk'], df['Weight_gm'])\n",
    "plt.xlabel('Price_tk')\n",
    "plt.ylabel('Weight_gm')\n",
    "plt.title('Scatter Plot for price vs Weight')\n",
    "plt.show()"
   ]
  },
  {
   "cell_type": "markdown",
   "id": "4462862a",
   "metadata": {},
   "source": [
    "###### 2. Line Plot"
   ]
  },
  {
   "cell_type": "markdown",
   "id": "7ae31606",
   "metadata": {},
   "source": [
    "By nature, the lineplot is similar to the scatterplot , but the points are connected with continuos lines sequentially. Rather than data distributions, the plot is preferable for finding data flow in atwo dimensional space"
   ]
  },
  {
   "cell_type": "code",
   "execution_count": 8,
   "id": "9df644bd",
   "metadata": {},
   "outputs": [
    {
     "data": {
      "image/png": "[encoded data removed]",
      "text/plain": [
       "<Figure size 504x360 with 1 Axes>"
      ]
     },
     "metadata": {
      "needs_background": "light"
     },
     "output_type": "display_data"
    }
   ],
   "source": [
    "plt.figure(figsize=(7,5))\n",
    "plt.plot(df['Price_tk'])\n",
    "plt.xlabel('No. of Data Points')\n",
    "plt.ylabel('Weight_gm')\n",
    "plt.title('Line plot for price')\n",
    "plt.show()"
   ]
  },
  {
   "cell_type": "markdown",
   "id": "70b5c585",
   "metadata": {},
   "source": [
    "###### 3.Bar chart\n",
    "The bar chart is maily used to represent the frequency of categorical variable with bars. Different heights of the bar indicate the frequency."
   ]
  },
  {
   "cell_type": "code",
   "execution_count": 9,
   "id": "5b6e52c8",
   "metadata": {},
   "outputs": [
    {
     "data": {
      "image/png": "[encoded data removed]",
      "text/plain": [
       "<Figure size 576x360 with 1 Axes>"
      ]
     },
     "metadata": {
      "needs_background": "light"
     },
     "output_type": "display_data"
    }
   ],
   "source": [
    "x=df['Season'].value_counts().index\n",
    "y=df['Season'].value_counts()\n",
    "plt.figure(figsize=(8,5))\n",
    "plt.bar(x,y, color='#066471', width=0.5)\n",
    "plt.xlabel('Seasons')\n",
    "plt.ylabel('Frequency')\n",
    "plt.title('Bar plot for season')\n",
    "plt.show()"
   ]
  },
  {
   "cell_type": "markdown",
   "id": "65dc4530",
   "metadata": {},
   "source": [
    "###### 4. Histograms\n",
    "The concept of the **Histogram** is the same as the bar chart. In a bar chart the frequency is shown in discrete bars of categorical variable; However, ahistogram shows the frequency of a continuous interval. Basically, it is used to find the frquency of a continuous variable within intervals."
   ]
  },
  {
   "cell_type": "code",
   "execution_count": 10,
   "id": "e48dcd46",
   "metadata": {},
   "outputs": [
    {
     "data": {
      "image/png": "[encoded data removed]",
      "text/plain": [
       "<Figure size 576x360 with 1 Axes>"
      ]
     },
     "metadata": {
      "needs_background": "light"
     },
     "output_type": "display_data"
    }
   ],
   "source": [
    "plt.figure(figsize=(8,5))\n",
    "plt.hist(df['Price_tk'], color='#066471')\n",
    "plt.xlabel('Price Interval')\n",
    "plt.ylabel('Frequency')\n",
    "plt.title('Histogram for Price')\n",
    "plt.show()"
   ]
  },
  {
   "cell_type": "markdown",
   "id": "08135b75",
   "metadata": {},
   "source": [
    "###### 5. Pie Charts\n",
    "The Pie Chart shows the frequecny in terms of percentage in a circular manner. Each element holds the area of the circle according to its frequency percentage."
   ]
  },
  {
   "cell_type": "code",
   "execution_count": 11,
   "id": "748c54b9",
   "metadata": {},
   "outputs": [
    {
     "data": {
      "image/png": "[encoded data removed]",
      "text/plain": [
       "<Figure size 432x288 with 1 Axes>"
      ]
     },
     "metadata": {},
     "output_type": "display_data"
    }
   ],
   "source": [
    "import matplotlib.pyplot as plt\n",
    "import seaborn as sns\n",
    "\n",
    "#define the data\n",
    "x=df['Season'].value_counts()\n",
    "labels = df['Season'].value_counts().index\n",
    "\n",
    "#Define seaborn color pallet to use\n",
    "colors = sns.color_palette('bright')[0:3]\n",
    "\n",
    "#Create a pie chart\n",
    "plt.pie(x, labels = labels, colors=colors, autopct='%.0f%%')\n",
    "plt.title('Pie chart for seasonal Vegetable', fontsize=16)\n",
    "\n",
    "plt.show()"
   ]
  },
  {
   "cell_type": "markdown",
   "id": "9909b886",
   "metadata": {},
   "source": [
    "###### 6. Exploded Pie chart\n",
    "The pie chart and the exploed pie chart are the same. In the exploded pie chart, you can segregate a portion of a pie chart to highlight elements"
   ]
  },
  {
   "cell_type": "code",
   "execution_count": 12,
   "id": "7e992801",
   "metadata": {},
   "outputs": [
    {
     "data": {
      "image/png": "[encoded data removed]",
      "text/plain": [
       "<Figure size 432x288 with 1 Axes>"
      ]
     },
     "metadata": {},
     "output_type": "display_data"
    }
   ],
   "source": [
    "import matplotlib.pyplot as plt\n",
    "import seaborn as sns\n",
    "\n",
    "#Define the data\n",
    "x=df['Season'].value_counts()\n",
    "labels = df['Season'].value_counts().index\n",
    "myexplode = [0, 0, 0.2]\n",
    "\n",
    "#Define seaborn color palette to use\n",
    "colors = sns.color_palette('bright')[0:3]\n",
    "\n",
    "#Create a piechart\n",
    "plt.pie(x, labels = labels, explode=myexplode, colors=colors, autopct='%.0f%%')\n",
    "plt.title('Exploded pie chart for seasonable vegetable',fontsize=16)\n",
    "plt.show()"
   ]
  },
  {
   "cell_type": "markdown",
   "id": "519e03b0",
   "metadata": {},
   "source": [
    "###### 7. Distirbution Plot\n",
    "We can understand how a continuouus variable's value are distributed with the distribution plot"
   ]
  },
  {
   "cell_type": "code",
   "execution_count": 13,
   "id": "1f449c35",
   "metadata": {},
   "outputs": [
    {
     "data": {
      "image/png": "[encoded data removed]",
      "text/plain": [
       "<Figure size 360x360 with 1 Axes>"
      ]
     },
     "metadata": {
      "needs_background": "light"
     },
     "output_type": "display_data"
    }
   ],
   "source": [
    "import matplotlib.pyplot as plt\n",
    "import seaborn as sns\n",
    "\n",
    "sns.displot(df, x='Price_tk', kind='kde')\n",
    "plt.title('Distribution of price of vegetable', fontsize=16)\n",
    "plt.show()"
   ]
  },
  {
   "cell_type": "markdown",
   "id": "314f3a3b",
   "metadata": {},
   "source": [
    "**The Price of the dataset is not normally distributed, rather it is left skewed.**"
   ]
  },
  {
   "cell_type": "markdown",
   "id": "c87ef6f6",
   "metadata": {},
   "source": [
    "###### 8. Box Plot\n",
    " The Following graph is a box plot where the box indicated the ranges between the **1st(Q1) and 3rd(Q3)** Quartiles. The vertical line of the left and right sides indicate the outlier fences, values beyond the lines are considered outliers. The yellow vertical line inside the box indicated the **2nd(Q2)**.\n",
    " \n",
    " This plot can also be used to find the central Tendency, and dispersion can also be estimated."
   ]
  },
  {
   "cell_type": "code",
   "execution_count": 14,
   "id": "6da26c93",
   "metadata": {},
   "outputs": [
    {
     "data": {
      "text/html": [
       "<img src=\"https://miro.medium.com/max/828/0*REqMf7UD2tCzaE3J.webp\"/>"
      ],
      "text/plain": [
       "<IPython.core.display.Image object>"
      ]
     },
     "execution_count": 14,
     "metadata": {},
     "output_type": "execute_result"
    }
   ],
   "source": [
    "#Code to upload an image in Jupyter notebook\n",
    "from IPython.display import Image\n",
    "\n",
    "# Display the image\n",
    "Image(url='https://miro.medium.com/max/828/0*REqMf7UD2tCzaE3J.webp')\n"
   ]
  },
  {
   "cell_type": "code",
   "execution_count": 15,
   "id": "f12e002f",
   "metadata": {},
   "outputs": [
    {
     "data": {
      "image/png": "[encoded data removed]",
      "text/plain": [
       "<Figure size 432x288 with 1 Axes>"
      ]
     },
     "metadata": {
      "needs_background": "light"
     },
     "output_type": "display_data"
    }
   ],
   "source": [
    "import seaborn as sns\n",
    "\n",
    "sns.boxplot(data=df, x='Price_tk', y='Season', width=0.5)\n",
    "plt.title('Box plot for Price of seasonal vegetable', fontsize=16)\n",
    "plt.show()"
   ]
  },
  {
   "cell_type": "markdown",
   "id": "3676a4bb",
   "metadata": {},
   "source": [
    "##### Conclusion\n",
    "Data visualization is an amazing technique to summarize and get insights into the dataset. Before data visualization we need to be very careful about the varible types. A random data visualization can misleas which would bring a big issue for our decision making. So we need to ask ourselves why we are visualizing and what information we want to extract from it? if we know the answer, data visualization will provide interesting results."
   ]
  },
  {
   "cell_type": "code",
   "execution_count": null,
   "id": "62088b8b",
   "metadata": {},
   "outputs": [],
   "source": []
  }
 ],
 "metadata": {
  "kernelspec": {
   "display_name": "Python 3 (ipykernel)",
   "language": "python",
   "name": "python3"
  },
  "language_info": {
   "codemirror_mode": {
    "name": "ipython",
    "version": 3
   },
   "file_extension": ".py",
   "mimetype": "text/x-python",
   "name": "python",
   "nbconvert_exporter": "python",
   "pygments_lexer": "ipython3",
   "version": "3.9.7"
  }
 },
 "nbformat": 4,
 "nbformat_minor": 5
}
